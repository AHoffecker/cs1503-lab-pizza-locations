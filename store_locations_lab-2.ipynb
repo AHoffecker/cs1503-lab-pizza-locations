{
 "cells": [
  {
   "cell_type": "markdown",
   "metadata": {},
   "source": [
    "# Lab: using clustering to find best store locations\n",
    "\n",
    "Imagine the following situation:<br>\n",
    "You own a pizza chain, and you collected data about pizza deliveries in a certain neighborhood. The data contains a coordinate of each delivery as a pair *(Latitude, Longitude)*. You do not have any stores in this neighborhood, and driving there each time is too expensive (especially with current gas prices). So you decide to open $K$ new stores in this area. The task is, based on the frequent delivery data, determine the best locations for the new stores.\n",
    "\n",
    "You need to perform the $K$-means clustering of delivery locations, and otput the best location for $K$ new stores. How would you choose the location of the store within each cluster that minimizes the overall distance between the store and each delivery address? __Explain your idea in a separate cell below.__"
   ]
  },
  {
   "cell_type": "markdown",
   "metadata": {},
   "source": [
    "It is important to consider the method we will be defining as the \"best location\" as applied in this scenario. Since we really want to minimize the overall distance that the driver will have to travel, I think the best approach would be to use the average of all of the points in each cluster. This way, when we drive to any of the locations in the delivery area, we can overtime average out the distance travelled."
   ]
  },
  {
   "cell_type": "markdown",
   "metadata": {},
   "source": [
    "The data is 2-dimensional and it is easy to plot it to see if the locations of new stores make sense."
   ]
  },
  {
   "cell_type": "code",
   "execution_count": 38,
   "metadata": {},
   "outputs": [],
   "source": [
    "%matplotlib inline\n",
    "import matplotlib.pyplot as plt\n",
    "import seaborn as sns; sns.set()  # for plot styling\n",
    "import pandas as pd\n",
    "import numpy as np"
   ]
  },
  {
   "cell_type": "markdown",
   "metadata": {},
   "source": [
    "The data is a real data collected by [this person](https://github.com/angelddaz) while they were working as a pizza delivery driver. The file `pizza_delivery_locations.csv` is a projection of the original data and contains only *(Latitude, Longitude)* of each delivery address. "
   ]
  },
  {
   "cell_type": "code",
   "execution_count": 39,
   "metadata": {},
   "outputs": [],
   "source": [
    "data_file = \"pizza_delivery_locations.csv\""
   ]
  },
  {
   "cell_type": "code",
   "execution_count": 40,
   "metadata": {},
   "outputs": [
    {
     "name": "stdout",
     "output_type": "stream",
     "text": [
      "Index(['Latitude', 'Longitude'], dtype='object')\n"
     ]
    }
   ],
   "source": [
    "data = pd.read_csv(data_file)\n",
    "print(data.columns)\n",
    "len(data)\n",
    "\n",
    "# convert dataframe to a 2D numpy array - it is easier to work with it\n",
    "data = data.to_numpy()"
   ]
  },
  {
   "cell_type": "markdown",
   "metadata": {},
   "source": [
    "## Task 1.\n",
    "\n",
    "Use $K$-means clustering algorithm to find the best locations for new pizza stores for $K$=2, $K$=3 and $K$=4. The answers should be represented as lists of *(Latitide,Longitude)* tuples for each value of $K$.\n",
    "\n",
    "You can use the custom code from the k-means demo, or you can implement your own clustering algorithm. What distance metric is the most appropriate for this situation?"
   ]
  },
  {
   "cell_type": "markdown",
   "metadata": {},
   "source": [
    "The most applicable distance metric is Euclidean distance due to the fact that we can represent longitude and latitude as points, measured in space. While the earth is not flat like a 2-D array, this will be the best approach for us."
   ]
  },
  {
   "cell_type": "code",
   "execution_count": 41,
   "metadata": {},
   "outputs": [],
   "source": [
    "# Method to calculate Euclidean Distance between 2 points\n",
    "def euclidean(co1, co2):\n",
    "    distance = 0\n",
    "    for c1, c2 in zip(co1, co2):\n",
    "        # Distance = (c1-c2)^2\n",
    "        distance += (c1 - c2) ** 2\n",
    "    return sqrt(distance)\n",
    "\n",
    "def kcluster(rows, k=K, distance=euclidean):\n",
    "    # Determine the minimum and maximum values for each point\n",
    "    ranges=[(min([row[i] for row in rows]),max([row[i] for row in rows]))\n",
    "    for i in range(len(rows[0]))]\n",
    "\n",
    "    # Create k randomly placed centroids\n",
    "    clusters=[[random.random()*(ranges[i][1]-ranges[i][0])+ranges[i][0]\n",
    "                            for i in range(len(rows[0]))] for j in range(k)]\n",
    "  \n",
    "    lastmatches=None\n",
    "    bestmatches = None\n",
    "\n",
    "    for t in range(100):\n",
    "        print(f'Iteration {t}')\n",
    "        bestmatches = [[] for _ in range(k)]\n",
    "\n",
    "        # Find which centroid is the closest for each row\n",
    "        for j in range(len(rows)):\n",
    "            row = rows[j]\n",
    "            bestmatch = 0\n",
    "            for i in range(k):\n",
    "                d = distance(clusters[i], row)\n",
    "                if d < distance(clusters[bestmatch], row):\n",
    "                    bestmatch = i\n",
    "            bestmatches[bestmatch].append(row)\n",
    "\n",
    "        # Convert lists to strings\n",
    "        bestmatch_str = str(bestmatches)\n",
    "        lastmatch_str = str(lastmatches)\n",
    "\n",
    "        # Compare the strings\n",
    "        if bestmatch_str == lastmatch_str: break\n",
    "        lastmatches = bestmatches.copy()\n",
    "        \n",
    "        # Move the centroids to the average of the cluster members\n",
    "        for i in range(k):\n",
    "            if len(bestmatches[i]) > 0:\n",
    "                avg_lat = sum(row[0] for row in bestmatches[i]) / len(bestmatches[i])\n",
    "                avg_long = sum(row[1] for row in bestmatches[i]) / len(bestmatches[i])\n",
    "                clusters[i] = [avg_lat, avg_long]\n",
    "\n",
    "    return bestmatches"
   ]
  },
  {
   "cell_type": "code",
   "execution_count": 42,
   "metadata": {},
   "outputs": [
    {
     "name": "stdout",
     "output_type": "stream",
     "text": [
      "Iteration 0\n",
      "Iteration 1\n",
      "Iteration 2\n",
      "Iteration 0\n",
      "Iteration 1\n",
      "Iteration 2\n",
      "Iteration 3\n",
      "Iteration 0\n",
      "Iteration 1\n",
      "Iteration 2\n",
      "Iteration 3\n"
     ]
    }
   ],
   "source": [
    "K = 3\n",
    "coordinates = data[:, [0, 1]]\n",
    "clusters3 = kcluster(coordinates, distance=euclidean, k=K)\n",
    "\n",
    "\n",
    "K = 4\n",
    "clusters4 = kcluster(coordinates, distance=euclidean, k=K)\n",
    "\n",
    "K = 5\n",
    "clusters5 = kcluster(coordinates, distance=euclidean, k=K)\n"
   ]
  },
  {
   "cell_type": "code",
   "execution_count": 43,
   "metadata": {},
   "outputs": [],
   "source": [
    "def avg_coordinates(cluster):\n",
    "    if len(cluster) == 0:\n",
    "        return None, None # Return None if the cluster is empty\n",
    "    total_lat = sum(coordinate[0] for coordinate in cluster)\n",
    "    total_long = sum(coordinate[1] for coordinate in cluster)\n",
    "    avg_lat = total_lat / len(cluster)\n",
    "    avg_long = total_long / len(cluster)\n",
    "    return avg_lat, avg_long\n",
    "\n",
    "avg_clusters3 = []\n",
    "avg_clusters4 = []\n",
    "avg_clusters5 = []\n",
    "\n",
    "for cluster in clusters3:\n",
    "    avg_lat, avg_long = avg_coordinates(cluster)\n",
    "    avg_clusters3.append((avg_lat, avg_long))\n",
    "    \n",
    "for cluster in clusters4:\n",
    "    avg_lat, avg_long = avg_coordinates(cluster)\n",
    "    avg_clusters4.append((avg_lat, avg_long))\n",
    "    \n",
    "for cluster in clusters5:\n",
    "    avg_lat, avg_long = avg_coordinates(cluster)\n",
    "    avg_clusters5.append((avg_lat, avg_long))\n",
    "\n"
   ]
  },
  {
   "cell_type": "markdown",
   "metadata": {},
   "source": [
    "## Task 2\n",
    "Visualize clusters by plotting each data point and coloring it with a different color corresponding to the cluster to which it belongs. Also plot the locations of new stores for each value of $K$. Some examples of the final visualizations are given below."
   ]
  },
  {
   "cell_type": "markdown",
   "metadata": {},
   "source": [
    "## Scatter Plot of Original Data"
   ]
  },
  {
   "cell_type": "code",
   "execution_count": 44,
   "metadata": {},
   "outputs": [
    {
     "data": {
      "text/plain": [
       "<matplotlib.collections.PathCollection at 0x7fb08c4589d0>"
      ]
     },
     "execution_count": 44,
     "metadata": {},
     "output_type": "execute_result"
    },
    {
     "data": {
      "image/png": "[encoded data removed]",
      "text/plain": [
       "<Figure size 432x288 with 1 Axes>"
      ]
     },
     "metadata": {},
     "output_type": "display_data"
    }
   ],
   "source": [
    "plt.scatter(data[:,0], data[:,1])"
   ]
  },
  {
   "cell_type": "markdown",
   "metadata": {},
   "source": [
    "## Scatter Plot of 3 Clusters"
   ]
  },
  {
   "cell_type": "code",
   "execution_count": 45,
   "metadata": {},
   "outputs": [
    {
     "data": {
      "image/png": "[encoded data removed]",
      "text/plain": [
       "<Figure size 576x432 with 1 Axes>"
      ]
     },
     "metadata": {},
     "output_type": "display_data"
    }
   ],
   "source": [
    "colors = ['red', 'green', 'purple'] \n",
    "\n",
    "plt.figure(figsize=(8, 6))\n",
    "\n",
    "# Plot data points for each cluster\n",
    "for i, cluster in enumerate(clusters3):\n",
    "    cluster = np.array(cluster)  # Convert list of arrays to a numpy array\n",
    "    plt.scatter(cluster[:, 1], cluster[:, 0], color=colors[i], label=f'Cluster {i+1}')\n",
    "\n",
    "# Plot average values for each cluster\n",
    "for i, avg_cluster in enumerate(avg_clusters3):\n",
    "    plt.scatter(avg_cluster[1], avg_cluster[0], color=colors[i], marker='x', s=100, label=f'Avg Cluster {i+1}')\n",
    "\n",
    "plt.xlabel('Longitude')\n",
    "plt.ylabel('Latitude')\n",
    "plt.title('Longitude vs Latitude for Pizza Deliveries')\n",
    "plt.legend()\n",
    "plt.grid(True)\n",
    "plt.show()"
   ]
  },
  {
   "cell_type": "markdown",
   "metadata": {},
   "source": [
    "## Scatter Plot of 4 Clusters"
   ]
  },
  {
   "cell_type": "code",
   "execution_count": null,
   "metadata": {},
   "outputs": [
    {
     "ename": "IndexError",
     "evalue": "too many indices for array: array is 1-dimensional, but 2 were indexed",
     "output_type": "error",
     "traceback": [
      "\u001b[0;31m---------------------------------------------------------------------------\u001b[0m",
      "\u001b[0;31mIndexError\u001b[0m                                Traceback (most recent call last)",
      "\u001b[0;32m<ipython-input-46-852b092aa7d3>\u001b[0m in \u001b[0;36m<module>\u001b[0;34m\u001b[0m\n\u001b[1;32m      5\u001b[0m \u001b[0;32mfor\u001b[0m \u001b[0mi\u001b[0m\u001b[0;34m,\u001b[0m \u001b[0mcluster\u001b[0m \u001b[0;32min\u001b[0m \u001b[0menumerate\u001b[0m\u001b[0;34m(\u001b[0m\u001b[0mclusters4\u001b[0m\u001b[0;34m)\u001b[0m\u001b[0;34m:\u001b[0m\u001b[0;34m\u001b[0m\u001b[0;34m\u001b[0m\u001b[0m\n\u001b[1;32m      6\u001b[0m     \u001b[0mcluster\u001b[0m \u001b[0;34m=\u001b[0m \u001b[0mnp\u001b[0m\u001b[0;34m.\u001b[0m\u001b[0marray\u001b[0m\u001b[0;34m(\u001b[0m\u001b[0mcluster\u001b[0m\u001b[0;34m)\u001b[0m\u001b[0;34m\u001b[0m\u001b[0;34m\u001b[0m\u001b[0m\n\u001b[0;32m----> 7\u001b[0;31m     \u001b[0mplt\u001b[0m\u001b[0;34m.\u001b[0m\u001b[0mscatter\u001b[0m\u001b[0;34m(\u001b[0m\u001b[0mcluster\u001b[0m\u001b[0;34m[\u001b[0m\u001b[0;34m:\u001b[0m\u001b[0;34m,\u001b[0m \u001b[0;36m1\u001b[0m\u001b[0;34m]\u001b[0m\u001b[0;34m,\u001b[0m \u001b[0mcluster\u001b[0m\u001b[0;34m[\u001b[0m\u001b[0;34m:\u001b[0m\u001b[0;34m,\u001b[0m \u001b[0;36m0\u001b[0m\u001b[0;34m]\u001b[0m\u001b[0;34m,\u001b[0m \u001b[0mcolor\u001b[0m\u001b[0;34m=\u001b[0m\u001b[0mcolors\u001b[0m\u001b[0;34m[\u001b[0m\u001b[0mi\u001b[0m\u001b[0;34m]\u001b[0m\u001b[0;34m,\u001b[0m \u001b[0mlabel\u001b[0m\u001b[0;34m=\u001b[0m\u001b[0;34mf'Cluster {i+1}'\u001b[0m\u001b[0;34m)\u001b[0m\u001b[0;34m\u001b[0m\u001b[0;34m\u001b[0m\u001b[0m\n\u001b[0m\u001b[1;32m      8\u001b[0m \u001b[0;34m\u001b[0m\u001b[0m\n\u001b[1;32m      9\u001b[0m \u001b[0;31m# Plot average values for each cluster\u001b[0m\u001b[0;34m\u001b[0m\u001b[0;34m\u001b[0m\u001b[0;34m\u001b[0m\u001b[0m\n",
      "\u001b[0;31mIndexError\u001b[0m: too many indices for array: array is 1-dimensional, but 2 were indexed"
     ]
    }
   ],
   "source": [
    "colors = ['red', 'green', 'purple', 'blue']\n",
    "plt.figure(figsize=(8, 6))\n",
    "\n",
    "# Plot data points for each cluster\n",
    "for i, cluster in enumerate(clusters4):\n",
    "    cluster = np.array(cluster)\n",
    "    plt.scatter(cluster[:, 1], cluster[:, 0], color=colors[i], label=f'Cluster {i+1}')\n",
    "\n",
    "# Plot average values for each cluster\n",
    "for i, avg_cluster in enumerate(avg_clusters4):\n",
    "    plt.scatter(avg_cluster[1], avg_cluster[0], color=colors[i], marker='x', s=100, label=f'Avg Cluster {i+1}')\n",
    "\n",
    "plt.xlabel('Longitude')\n",
    "plt.ylabel('Latitude')\n",
    "plt.title('Longitude vs Latitude for Pizza Deliveries')\n",
    "plt.legend()\n",
    "plt.grid(True)\n",
    "plt.show()"
   ]
  },
  {
   "cell_type": "markdown",
   "metadata": {},
   "source": [
    "## Scatter Plot of 5 Clusters"
   ]
  },
  {
   "cell_type": "code",
   "execution_count": null,
   "metadata": {},
   "outputs": [],
   "source": [
    "colors = ['red', 'green', 'purple', 'blue', 'pink'] \n",
    "\n",
    "plt.figure(figsize=(8, 6))\n",
    "\n",
    "# Plot data points for each cluster\n",
    "for i, cluster in enumerate(clusters5):\n",
    "    if len(cluster) > 0:  # Check if the cluster is not empty\n",
    "        cluster = np.array(cluster)  # Convert list of arrays to a numpy array\n",
    "        if len(cluster.shape) == 1:\n",
    "            cluster = np.array([cluster])  # Convert 1D array to 2D array\n",
    "        plt.scatter(cluster[:, 1], cluster[:, 0], color=colors[i % len(colors)], label=f'Cluster {i+1}')\n",
    "\n",
    "# Plot average values for each cluster\n",
    "for i, avg_cluster in enumerate(avg_clusters5):\n",
    "    plt.scatter(avg_cluster[1], avg_cluster[0], color=colors[i % len(colors)], marker='x', s=100, label=f'Avg Cluster {i+1}')\n",
    "\n",
    "plt.xlabel('Longitude')\n",
    "plt.ylabel('Latitude')\n",
    "plt.title('Longitude vs Latitude for Pizza Deliveries')\n",
    "plt.legend()\n",
    "plt.grid(True)\n",
    "plt.show()\n",
    "\n"
   ]
  },
  {
   "cell_type": "code",
   "execution_count": null,
   "metadata": {},
   "outputs": [],
   "source": []
  },
  {
   "cell_type": "markdown",
   "metadata": {},
   "source": [
    "## Examples of cluster visualization in 2D"
   ]
  },
  {
   "cell_type": "markdown",
   "metadata": {},
   "source": [
    "Plotting original data:\n",
    "    \n",
    "<img src=\"clusters.png\">"
   ]
  },
  {
   "cell_type": "markdown",
   "metadata": {},
   "source": [
    "Plotting clusters with store locations\n",
    "<img src=\"locations.png\">"
   ]
  },
  {
   "cell_type": "markdown",
   "metadata": {},
   "source": [
    "Copyright &copy; 2024 Marina Barsky. All rights reserved."
   ]
  },
  {
   "cell_type": "code",
   "execution_count": null,
   "metadata": {},
   "outputs": [],
   "source": []
  }
 ],
 "metadata": {
  "kernelspec": {
   "display_name": "Python 3",
   "language": "python",
   "name": "python3"
  },
  "language_info": {
   "codemirror_mode": {
    "name": "ipython",
    "version": 3
   },
   "file_extension": ".py",
   "mimetype": "text/x-python",
   "name": "python",
   "nbconvert_exporter": "python",
   "pygments_lexer": "ipython3",
   "version": "3.8.3"
  }
 },
 "nbformat": 4,
 "nbformat_minor": 4
}
